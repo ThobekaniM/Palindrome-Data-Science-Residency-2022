{
 "cells": [
  {
   "cell_type": "code",
   "execution_count": 18,
   "metadata": {
    "colab": {
     "base_uri": "https://localhost:8080/"
    },
    "executionInfo": {
     "elapsed": 3767,
     "status": "ok",
     "timestamp": 1639123172928,
     "user": {
      "displayName": "Ken",
      "photoUrl": "https://lh3.googleusercontent.com/a-/AOh14GjAUq-ibejSiWHj0H9AxmFjB7fqs3xW4zR4c-JmkQ=s64",
      "userId": "05717272960702554564"
     },
     "user_tz": -120
    },
    "id": "sUylD7HWUlNB",
    "outputId": "49647a8a-6389-4099-df1e-8c52ff3a1966"
   },
   "outputs": [
    {
     "name": "stdout",
     "output_type": "stream",
     "text": [
      "time: 38.4 s (started: 2021-12-10 13:20:10 +02:00)\n"
     ]
    }
   ],
   "source": [
    "%%capture\n",
    "!pip install ipython-autotime\n",
    "%load_ext autotime"
   ]
  },
  {
   "cell_type": "code",
   "execution_count": 19,
   "metadata": {
    "colab": {
     "base_uri": "https://localhost:8080/"
    },
    "executionInfo": {
     "elapsed": 805,
     "status": "ok",
     "timestamp": 1639133025262,
     "user": {
      "displayName": "Ken",
      "photoUrl": "https://lh3.googleusercontent.com/a-/AOh14GjAUq-ibejSiWHj0H9AxmFjB7fqs3xW4zR4c-JmkQ=s64",
      "userId": "05717272960702554564"
     },
     "user_tz": -120
    },
    "id": "3ozrofCUUlNM",
    "outputId": "1682fdab-7f07-4330-b45c-b232e7db1cf5"
   },
   "outputs": [
    {
     "name": "stdout",
     "output_type": "stream",
     "text": [
      "time: 312 ms (started: 2021-12-10 13:20:49 +02:00)\n"
     ]
    }
   ],
   "source": [
    "# Import libraries required\n",
    "\n",
    "import numpy as pd\n",
    "import matplotlib.pyplot as plt\n",
    "import pandas as pd\n",
    "import seaborn as sns\n",
    "import re"
   ]
  },
  {
   "cell_type": "code",
   "execution_count": 20,
   "metadata": {
    "colab": {
     "base_uri": "https://localhost:8080/",
     "height": 223
    },
    "executionInfo": {
     "elapsed": 28,
     "status": "ok",
     "timestamp": 1639123172933,
     "user": {
      "displayName": "Ken",
      "photoUrl": "https://lh3.googleusercontent.com/a-/AOh14GjAUq-ibejSiWHj0H9AxmFjB7fqs3xW4zR4c-JmkQ=s64",
      "userId": "05717272960702554564"
     },
     "user_tz": -120
    },
    "id": "vkWG6otgUlNP",
    "outputId": "a3bc670b-a2f0-459a-f327-d290c24656ba"
   },
   "outputs": [
    {
     "data": {
      "text/html": [
       "<div>\n",
       "<style scoped>\n",
       "    .dataframe tbody tr th:only-of-type {\n",
       "        vertical-align: middle;\n",
       "    }\n",
       "\n",
       "    .dataframe tbody tr th {\n",
       "        vertical-align: top;\n",
       "    }\n",
       "\n",
       "    .dataframe thead th {\n",
       "        text-align: right;\n",
       "    }\n",
       "</style>\n",
       "<table border=\"1\" class=\"dataframe\">\n",
       "  <thead>\n",
       "    <tr style=\"text-align: right;\">\n",
       "      <th></th>\n",
       "      <th>District</th>\n",
       "      <th>Code</th>\n",
       "      <th>Estimate</th>\n",
       "      <th>Prevalence_%</th>\n",
       "      <th>Prevalence_LCL</th>\n",
       "      <th>Prevalence_UCL</th>\n",
       "      <th>NoPLHIV</th>\n",
       "      <th>NoPLHIV_LCL</th>\n",
       "      <th>NoPLHIV_UCL</th>\n",
       "    </tr>\n",
       "  </thead>\n",
       "  <tbody>\n",
       "    <tr>\n",
       "      <th>0</th>\n",
       "      <td>Buffalo City</td>\n",
       "      <td>BUF</td>\n",
       "      <td>Survey</td>\n",
       "      <td>13.600000</td>\n",
       "      <td>10.268000</td>\n",
       "      <td>16.932000</td>\n",
       "      <td>102437</td>\n",
       "      <td>77340</td>\n",
       "      <td>127534</td>\n",
       "    </tr>\n",
       "    <tr>\n",
       "      <th>1</th>\n",
       "      <td>Buffalo City</td>\n",
       "      <td>BUF</td>\n",
       "      <td>Fay-Heriott</td>\n",
       "      <td>13.501283</td>\n",
       "      <td>11.031605</td>\n",
       "      <td>16.421802</td>\n",
       "      <td>101693</td>\n",
       "      <td>83092</td>\n",
       "      <td>123691</td>\n",
       "    </tr>\n",
       "    <tr>\n",
       "      <th>2</th>\n",
       "      <td>City of Cape Town</td>\n",
       "      <td>CPT</td>\n",
       "      <td>Survey</td>\n",
       "      <td>5.200000</td>\n",
       "      <td>3.044000</td>\n",
       "      <td>7.356000</td>\n",
       "      <td>200751</td>\n",
       "      <td>117517</td>\n",
       "      <td>283985</td>\n",
       "    </tr>\n",
       "    <tr>\n",
       "      <th>3</th>\n",
       "      <td>City of Cape Town</td>\n",
       "      <td>CPT</td>\n",
       "      <td>Fay-Heriott</td>\n",
       "      <td>6.020043</td>\n",
       "      <td>4.335072</td>\n",
       "      <td>8.303091</td>\n",
       "      <td>232409</td>\n",
       "      <td>167359</td>\n",
       "      <td>320548</td>\n",
       "    </tr>\n",
       "    <tr>\n",
       "      <th>4</th>\n",
       "      <td>West Coast</td>\n",
       "      <td>DC1</td>\n",
       "      <td>Survey</td>\n",
       "      <td>2.700000</td>\n",
       "      <td>0.000000</td>\n",
       "      <td>5.444000</td>\n",
       "      <td>11302</td>\n",
       "      <td>0</td>\n",
       "      <td>22789</td>\n",
       "    </tr>\n",
       "  </tbody>\n",
       "</table>\n",
       "</div>"
      ],
      "text/plain": [
       "            District Code     Estimate  Prevalence_%  Prevalence_LCL  \\\n",
       "0       Buffalo City  BUF       Survey     13.600000       10.268000   \n",
       "1       Buffalo City  BUF  Fay-Heriott     13.501283       11.031605   \n",
       "2  City of Cape Town  CPT       Survey      5.200000        3.044000   \n",
       "3  City of Cape Town  CPT  Fay-Heriott      6.020043        4.335072   \n",
       "4         West Coast  DC1       Survey      2.700000        0.000000   \n",
       "\n",
       "   Prevalence_UCL  NoPLHIV  NoPLHIV_LCL  NoPLHIV_UCL  \n",
       "0       16.932000   102437        77340       127534  \n",
       "1       16.421802   101693        83092       123691  \n",
       "2        7.356000   200751       117517       283985  \n",
       "3        8.303091   232409       167359       320548  \n",
       "4        5.444000    11302            0        22789  "
      ]
     },
     "execution_count": 20,
     "metadata": {},
     "output_type": "execute_result"
    },
    {
     "name": "stdout",
     "output_type": "stream",
     "text": [
      "time: 13 s (started: 2021-12-10 13:20:49 +02:00)\n"
     ]
    }
   ],
   "source": [
    "df = pd.read_excel ('pone.0212445.s004.xlsx', header = 1)\n",
    "df.head()"
   ]
  },
  {
   "cell_type": "markdown",
   "metadata": {
    "id": "NdersbiRUlNQ"
   },
   "source": [
    "a)\tWhat is the total number of people living with HIV (NoPLHIV) in the listed districts according to the Survey estimate?"
   ]
  },
  {
   "cell_type": "code",
   "execution_count": 21,
   "metadata": {
    "colab": {
     "base_uri": "https://localhost:8080/"
    },
    "executionInfo": {
     "elapsed": 614,
     "status": "ok",
     "timestamp": 1639123533109,
     "user": {
      "displayName": "Ken",
      "photoUrl": "https://lh3.googleusercontent.com/a-/AOh14GjAUq-ibejSiWHj0H9AxmFjB7fqs3xW4zR4c-JmkQ=s64",
      "userId": "05717272960702554564"
     },
     "user_tz": -120
    },
    "id": "12fgXfR4VQjm",
    "outputId": "21e849b5-4d01-4bc0-a0b8-472049483d39"
   },
   "outputs": [
    {
     "name": "stdout",
     "output_type": "stream",
     "text": [
      "6409903\n",
      "time: 547 ms (started: 2021-12-10 13:21:13 +02:00)\n"
     ]
    }
   ],
   "source": [
    "print(df[df.Estimate == 'Survey'].NoPLHIV.sum())"
   ]
  },
  {
   "cell_type": "markdown",
   "metadata": {
    "id": "c5dRgXXfW2a3"
   },
   "source": [
    "There is an estimated 6 409 903 total number people living with HIV in the listed districts."
   ]
  },
  {
   "cell_type": "code",
   "execution_count": 22,
   "metadata": {
    "colab": {
     "base_uri": "https://localhost:8080/"
    },
    "executionInfo": {
     "elapsed": 638,
     "status": "ok",
     "timestamp": 1639127276910,
     "user": {
      "displayName": "Ken",
      "photoUrl": "https://lh3.googleusercontent.com/a-/AOh14GjAUq-ibejSiWHj0H9AxmFjB7fqs3xW4zR4c-JmkQ=s64",
      "userId": "05717272960702554564"
     },
     "user_tz": -120
    },
    "id": "dHSWVDGWVQ6r",
    "outputId": "18633659-b238-48fd-8624-9fd3de7224bf"
   },
   "outputs": [
    {
     "data": {
      "text/plain": [
       "(104, 9)"
      ]
     },
     "execution_count": 22,
     "metadata": {},
     "output_type": "execute_result"
    },
    {
     "name": "stdout",
     "output_type": "stream",
     "text": [
      "time: 31 ms (started: 2021-12-10 13:21:19 +02:00)\n"
     ]
    }
   ],
   "source": [
    "df.shape"
   ]
  },
  {
   "cell_type": "markdown",
   "metadata": {
    "id": "Trl1QEEJUlNT"
   },
   "source": [
    "b)\tWhat is the average NoPLHIV of the two estimates used for “Xhariep”?"
   ]
  },
  {
   "cell_type": "code",
   "execution_count": 23,
   "metadata": {
    "colab": {
     "base_uri": "https://localhost:8080/"
    },
    "executionInfo": {
     "elapsed": 766,
     "status": "ok",
     "timestamp": 1639124292533,
     "user": {
      "displayName": "Ken",
      "photoUrl": "https://lh3.googleusercontent.com/a-/AOh14GjAUq-ibejSiWHj0H9AxmFjB7fqs3xW4zR4c-JmkQ=s64",
      "userId": "05717272960702554564"
     },
     "user_tz": -120
    },
    "id": "pZ4AKkp7VQp4",
    "outputId": "7f336c5f-db0d-431c-90a6-32bbeea0eff0"
   },
   "outputs": [
    {
     "name": "stdout",
     "output_type": "stream",
     "text": [
      "12247.5\n",
      "time: 234 ms (started: 2021-12-10 13:21:29 +02:00)\n"
     ]
    }
   ],
   "source": [
    "print(df[df.District == 'Xhariep'].NoPLHIV.mean())"
   ]
  },
  {
   "cell_type": "markdown",
   "metadata": {
    "id": "qIPS-taWUlNU"
   },
   "source": [
    "c)\tAdd a column and populate it with the number of people not living with HIV for each row. "
   ]
  },
  {
   "cell_type": "code",
   "execution_count": 24,
   "metadata": {
    "colab": {
     "base_uri": "https://localhost:8080/"
    },
    "executionInfo": {
     "elapsed": 633,
     "status": "ok",
     "timestamp": 1639126233327,
     "user": {
      "displayName": "Ken",
      "photoUrl": "https://lh3.googleusercontent.com/a-/AOh14GjAUq-ibejSiWHj0H9AxmFjB7fqs3xW4zR4c-JmkQ=s64",
      "userId": "05717272960702554564"
     },
     "user_tz": -120
    },
    "id": "gW_E9dngbOuc",
    "outputId": "4e4770c0-070e-40b1-ad48-ed917ce83c0a"
   },
   "outputs": [
    {
     "name": "stdout",
     "output_type": "stream",
     "text": [
      "time: 469 ms (started: 2021-12-10 13:21:32 +02:00)\n"
     ]
    }
   ],
   "source": [
    "df['HIVneg'] = round(df['NoPLHIV']/(df['Prevalence_%']/100))"
   ]
  },
  {
   "cell_type": "code",
   "execution_count": 25,
   "metadata": {
    "colab": {
     "base_uri": "https://localhost:8080/",
     "height": 223
    },
    "executionInfo": {
     "elapsed": 18,
     "status": "ok",
     "timestamp": 1639133412630,
     "user": {
      "displayName": "Ken",
      "photoUrl": "https://lh3.googleusercontent.com/a-/AOh14GjAUq-ibejSiWHj0H9AxmFjB7fqs3xW4zR4c-JmkQ=s64",
      "userId": "05717272960702554564"
     },
     "user_tz": -120
    },
    "id": "dIvxKDiabO0l",
    "outputId": "b9005a0a-9dce-497b-fc95-5168620da0a7"
   },
   "outputs": [
    {
     "data": {
      "text/html": [
       "<div>\n",
       "<style scoped>\n",
       "    .dataframe tbody tr th:only-of-type {\n",
       "        vertical-align: middle;\n",
       "    }\n",
       "\n",
       "    .dataframe tbody tr th {\n",
       "        vertical-align: top;\n",
       "    }\n",
       "\n",
       "    .dataframe thead th {\n",
       "        text-align: right;\n",
       "    }\n",
       "</style>\n",
       "<table border=\"1\" class=\"dataframe\">\n",
       "  <thead>\n",
       "    <tr style=\"text-align: right;\">\n",
       "      <th></th>\n",
       "      <th>District</th>\n",
       "      <th>Code</th>\n",
       "      <th>Estimate</th>\n",
       "      <th>Prevalence_%</th>\n",
       "      <th>Prevalence_LCL</th>\n",
       "      <th>Prevalence_UCL</th>\n",
       "      <th>NoPLHIV</th>\n",
       "      <th>NoPLHIV_LCL</th>\n",
       "      <th>NoPLHIV_UCL</th>\n",
       "      <th>HIVneg</th>\n",
       "    </tr>\n",
       "  </thead>\n",
       "  <tbody>\n",
       "    <tr>\n",
       "      <th>0</th>\n",
       "      <td>Buffalo City</td>\n",
       "      <td>BUF</td>\n",
       "      <td>Survey</td>\n",
       "      <td>13.600000</td>\n",
       "      <td>10.268000</td>\n",
       "      <td>16.932000</td>\n",
       "      <td>102437</td>\n",
       "      <td>77340</td>\n",
       "      <td>127534</td>\n",
       "      <td>753213.0</td>\n",
       "    </tr>\n",
       "    <tr>\n",
       "      <th>1</th>\n",
       "      <td>Buffalo City</td>\n",
       "      <td>BUF</td>\n",
       "      <td>Fay-Heriott</td>\n",
       "      <td>13.501283</td>\n",
       "      <td>11.031605</td>\n",
       "      <td>16.421802</td>\n",
       "      <td>101693</td>\n",
       "      <td>83092</td>\n",
       "      <td>123691</td>\n",
       "      <td>753210.0</td>\n",
       "    </tr>\n",
       "    <tr>\n",
       "      <th>2</th>\n",
       "      <td>City of Cape Town</td>\n",
       "      <td>CPT</td>\n",
       "      <td>Survey</td>\n",
       "      <td>5.200000</td>\n",
       "      <td>3.044000</td>\n",
       "      <td>7.356000</td>\n",
       "      <td>200751</td>\n",
       "      <td>117517</td>\n",
       "      <td>283985</td>\n",
       "      <td>3860596.0</td>\n",
       "    </tr>\n",
       "    <tr>\n",
       "      <th>3</th>\n",
       "      <td>City of Cape Town</td>\n",
       "      <td>CPT</td>\n",
       "      <td>Fay-Heriott</td>\n",
       "      <td>6.020043</td>\n",
       "      <td>4.335072</td>\n",
       "      <td>8.303091</td>\n",
       "      <td>232409</td>\n",
       "      <td>167359</td>\n",
       "      <td>320548</td>\n",
       "      <td>3860587.0</td>\n",
       "    </tr>\n",
       "    <tr>\n",
       "      <th>4</th>\n",
       "      <td>West Coast</td>\n",
       "      <td>DC1</td>\n",
       "      <td>Survey</td>\n",
       "      <td>2.700000</td>\n",
       "      <td>0.000000</td>\n",
       "      <td>5.444000</td>\n",
       "      <td>11302</td>\n",
       "      <td>0</td>\n",
       "      <td>22789</td>\n",
       "      <td>418593.0</td>\n",
       "    </tr>\n",
       "  </tbody>\n",
       "</table>\n",
       "</div>"
      ],
      "text/plain": [
       "            District Code     Estimate  Prevalence_%  Prevalence_LCL  \\\n",
       "0       Buffalo City  BUF       Survey     13.600000       10.268000   \n",
       "1       Buffalo City  BUF  Fay-Heriott     13.501283       11.031605   \n",
       "2  City of Cape Town  CPT       Survey      5.200000        3.044000   \n",
       "3  City of Cape Town  CPT  Fay-Heriott      6.020043        4.335072   \n",
       "4         West Coast  DC1       Survey      2.700000        0.000000   \n",
       "\n",
       "   Prevalence_UCL  NoPLHIV  NoPLHIV_LCL  NoPLHIV_UCL     HIVneg  \n",
       "0       16.932000   102437        77340       127534   753213.0  \n",
       "1       16.421802   101693        83092       123691   753210.0  \n",
       "2        7.356000   200751       117517       283985  3860596.0  \n",
       "3        8.303091   232409       167359       320548  3860587.0  \n",
       "4        5.444000    11302            0        22789   418593.0  "
      ]
     },
     "execution_count": 25,
     "metadata": {},
     "output_type": "execute_result"
    },
    {
     "name": "stdout",
     "output_type": "stream",
     "text": [
      "time: 78 ms (started: 2021-12-10 13:22:10 +02:00)\n"
     ]
    }
   ],
   "source": [
    "df.head()"
   ]
  },
  {
   "cell_type": "markdown",
   "metadata": {
    "id": "6pF_u1ALUlNW"
   },
   "source": [
    "d)\tWhat is the total NoPLHIV in all the cities (districts with “city” or “metro” in the name)? "
   ]
  },
  {
   "cell_type": "code",
   "execution_count": 26,
   "metadata": {
    "colab": {
     "base_uri": "https://localhost:8080/"
    },
    "executionInfo": {
     "elapsed": 545,
     "status": "ok",
     "timestamp": 1639127797941,
     "user": {
      "displayName": "Ken",
      "photoUrl": "https://lh3.googleusercontent.com/a-/AOh14GjAUq-ibejSiWHj0H9AxmFjB7fqs3xW4zR4c-JmkQ=s64",
      "userId": "05717272960702554564"
     },
     "user_tz": -120
    },
    "id": "ggSnm4AYigbe",
    "outputId": "6f348504-7d4e-48d8-b035-29d24181916d"
   },
   "outputs": [
    {
     "name": "stdout",
     "output_type": "stream",
     "text": [
      "2572733\n",
      "time: 156 ms (started: 2021-12-10 13:22:16 +02:00)\n"
     ]
    }
   ],
   "source": [
    "print(df[df.District.apply(lambda x: True if 'City' in x or 'Metro' in x else False)].NoPLHIV.sum())"
   ]
  },
  {
   "cell_type": "markdown",
   "metadata": {
    "id": "h2dBcAR5UlNX"
   },
   "source": [
    "3)\tRemove all the special/non-alphabetic characters from the dataframe column names. Print the resultant field names output. "
   ]
  },
  {
   "cell_type": "code",
   "execution_count": 27,
   "metadata": {
    "colab": {
     "base_uri": "https://localhost:8080/"
    },
    "executionInfo": {
     "elapsed": 581,
     "status": "ok",
     "timestamp": 1639129118271,
     "user": {
      "displayName": "Ken",
      "photoUrl": "https://lh3.googleusercontent.com/a-/AOh14GjAUq-ibejSiWHj0H9AxmFjB7fqs3xW4zR4c-JmkQ=s64",
      "userId": "05717272960702554564"
     },
     "user_tz": -120
    },
    "id": "SiorqsnqpFg2",
    "outputId": "b433bfdc-5bdd-4d81-cfa9-d2251b148fe0"
   },
   "outputs": [
    {
     "name": "stdout",
     "output_type": "stream",
     "text": [
      "['District', 'Code', 'Estimate', 'Prevalence', 'PrevalenceLCL', 'PrevalenceUCL', 'NoPLHIV', 'NoPLHIVLCL', 'NoPLHIVUCL', 'HIVneg']\n",
      "time: 0 ns (started: 2021-12-10 13:22:21 +02:00)\n"
     ]
    }
   ],
   "source": [
    "col_list = list()\n",
    "\n",
    "regex = re.compile('[^a-zA-Z]')\n",
    "\n",
    "for i in df.columns:\n",
    "  col_list.append(regex.sub('', i))\n",
    "\n",
    "print(col_list)"
   ]
  },
  {
   "cell_type": "markdown",
   "metadata": {
    "id": "OmdG17I6UlNY"
   },
   "source": [
    "4)\tUsing matplotlib, plot each Prevalence confidence interval (Prevalence_UCL and Prevalence_LCL) for Districts that end in “i”; according to Fay-Herriott estimates on 1 graph. "
   ]
  },
  {
   "cell_type": "code",
   "execution_count": 28,
   "metadata": {
    "colab": {
     "base_uri": "https://localhost:8080/",
     "height": 223
    },
    "executionInfo": {
     "elapsed": 606,
     "status": "ok",
     "timestamp": 1639133375607,
     "user": {
      "displayName": "Ken",
      "photoUrl": "https://lh3.googleusercontent.com/a-/AOh14GjAUq-ibejSiWHj0H9AxmFjB7fqs3xW4zR4c-JmkQ=s64",
      "userId": "05717272960702554564"
     },
     "user_tz": -120
    },
    "id": "yD5V_ZCtkmC5",
    "outputId": "cf83976f-46f5-4bc8-deaf-20887ece47c7"
   },
   "outputs": [
    {
     "data": {
      "text/html": [
       "<div>\n",
       "<style scoped>\n",
       "    .dataframe tbody tr th:only-of-type {\n",
       "        vertical-align: middle;\n",
       "    }\n",
       "\n",
       "    .dataframe tbody tr th {\n",
       "        vertical-align: top;\n",
       "    }\n",
       "\n",
       "    .dataframe thead th {\n",
       "        text-align: right;\n",
       "    }\n",
       "</style>\n",
       "<table border=\"1\" class=\"dataframe\">\n",
       "  <thead>\n",
       "    <tr style=\"text-align: right;\">\n",
       "      <th></th>\n",
       "      <th>District</th>\n",
       "      <th>variable</th>\n",
       "      <th>value</th>\n",
       "    </tr>\n",
       "  </thead>\n",
       "  <tbody>\n",
       "    <tr>\n",
       "      <th>0</th>\n",
       "      <td>Chris Hani</td>\n",
       "      <td>Prevalence_LCL</td>\n",
       "      <td>11.181220</td>\n",
       "    </tr>\n",
       "    <tr>\n",
       "      <th>1</th>\n",
       "      <td>Joe Gqabi</td>\n",
       "      <td>Prevalence_LCL</td>\n",
       "      <td>9.291766</td>\n",
       "    </tr>\n",
       "    <tr>\n",
       "      <th>2</th>\n",
       "      <td>Fezile Dabi</td>\n",
       "      <td>Prevalence_LCL</td>\n",
       "      <td>7.811309</td>\n",
       "    </tr>\n",
       "    <tr>\n",
       "      <th>3</th>\n",
       "      <td>uMzinyathi</td>\n",
       "      <td>Prevalence_LCL</td>\n",
       "      <td>16.845087</td>\n",
       "    </tr>\n",
       "    <tr>\n",
       "      <th>4</th>\n",
       "      <td>Ehlanzeni</td>\n",
       "      <td>Prevalence_LCL</td>\n",
       "      <td>12.012425</td>\n",
       "    </tr>\n",
       "  </tbody>\n",
       "</table>\n",
       "</div>"
      ],
      "text/plain": [
       "      District        variable      value\n",
       "0   Chris Hani  Prevalence_LCL  11.181220\n",
       "1    Joe Gqabi  Prevalence_LCL   9.291766\n",
       "2  Fezile Dabi  Prevalence_LCL   7.811309\n",
       "3   uMzinyathi  Prevalence_LCL  16.845087\n",
       "4    Ehlanzeni  Prevalence_LCL  12.012425"
      ]
     },
     "execution_count": 28,
     "metadata": {},
     "output_type": "execute_result"
    },
    {
     "name": "stdout",
     "output_type": "stream",
     "text": [
      "time: 1.31 s (started: 2021-12-10 13:22:52 +02:00)\n"
     ]
    }
   ],
   "source": [
    "df_fay = df[df.Estimate == 'Fay-Heriott']\n",
    "fay_Di = df_fay[df_fay.District.apply(lambda x: x.endswith('i'))]\n",
    "fay_Di_melted = pd.melt(fay_Di[['District','Prevalence_LCL','Prevalence_UCL']],\n",
    "                        id_vars=['District'],\n",
    "                        value_vars=['Prevalence_LCL', 'Prevalence_UCL'])\n",
    "\n",
    "fay_Di_melted.head()"
   ]
  },
  {
   "cell_type": "code",
   "execution_count": 29,
   "metadata": {
    "colab": {
     "base_uri": "https://localhost:8080/",
     "height": 568
    },
    "executionInfo": {
     "elapsed": 831,
     "status": "ok",
     "timestamp": 1639133627484,
     "user": {
      "displayName": "Ken",
      "photoUrl": "https://lh3.googleusercontent.com/a-/AOh14GjAUq-ibejSiWHj0H9AxmFjB7fqs3xW4zR4c-JmkQ=s64",
      "userId": "05717272960702554564"
     },
     "user_tz": -120
    },
    "id": "Dk4SG-R9v0wu",
    "outputId": "c0efcd6a-9729-4341-c5a5-e708cef285fb"
   },
   "outputs": [
    {
     "data": {
      "image/png": "[encoded data removed]",
      "text/plain": [
       "<Figure size 1152x648 with 1 Axes>"
      ]
     },
     "metadata": {
      "needs_background": "light"
     },
     "output_type": "display_data"
    },
    {
     "name": "stdout",
     "output_type": "stream",
     "text": [
      "time: 2.05 s (started: 2021-12-10 13:22:53 +02:00)\n"
     ]
    }
   ],
   "source": [
    "plt.figure(figsize=(16,9))\n",
    "ax = sns.barplot(x=\"District\", y=\"value\", hue=\"variable\", data=fay_Di_melted)\n",
    "ax.set(ylabel='Proportion')\n",
    "plt.show()"
   ]
  },
  {
   "cell_type": "code",
   "execution_count": null,
   "metadata": {
    "id": "GeoS81Yx8Lre"
   },
   "outputs": [],
   "source": []
  }
 ],
 "metadata": {
  "colab": {
   "name": "Palindrome Data Science.ipynb",
   "provenance": []
  },
  "kernelspec": {
   "display_name": "Python 3",
   "language": "python",
   "name": "python3"
  },
  "language_info": {
   "codemirror_mode": {
    "name": "ipython",
    "version": 3
   },
   "file_extension": ".py",
   "mimetype": "text/x-python",
   "name": "python",
   "nbconvert_exporter": "python",
   "pygments_lexer": "ipython3",
   "version": "3.8.5"
  }
 },
 "nbformat": 4,
 "nbformat_minor": 1
}
